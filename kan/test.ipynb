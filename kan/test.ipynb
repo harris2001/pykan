{
 "cells": [
  {
   "cell_type": "code",
   "execution_count": 7,
   "id": "490f6213-1889-4e8b-94cb-b687faaab2ad",
   "metadata": {},
   "outputs": [],
   "source": [
    "from KAN import *\n",
    "import torch\n",
    "model = KAN(width=[28*28*3,30,2,1])\n",
    "x = torch.normal(0,1,size=(100,28*28*3))\n",
    "model(x);\n",
    "beta = 100\n",
    "# model.plot(beta=beta)"
   ]
  },
  {
   "cell_type": "code",
   "execution_count": null,
   "id": "8abcf9d1-8f70-4442-93b7-f868265d3873",
   "metadata": {},
   "outputs": [],
   "source": []
  }
 ],
 "metadata": {
  "kernelspec": {
   "display_name": "ML",
   "language": "python",
   "name": "ml"
  },
  "language_info": {
   "codemirror_mode": {
    "name": "ipython",
    "version": 3
   },
   "file_extension": ".py",
   "mimetype": "text/x-python",
   "name": "python",
   "nbconvert_exporter": "python",
   "pygments_lexer": "ipython3",
   "version": "3.12.3"
  }
 },
 "nbformat": 4,
 "nbformat_minor": 5
}
